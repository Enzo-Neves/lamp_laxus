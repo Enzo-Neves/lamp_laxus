{
 "cells": [
  {
   "cell_type": "markdown",
   "id": "c5286934",
   "metadata": {},
   "source": [
    "# Location-Aware Maintenance Strategies for Edge Infrastructures\n",
    "\n",
    "This notebook shows how we can simulate maintenance of edge infrastructures using EdgeSimPy, reproducing the results comparing Lamp and Laxus against existing maintenance strategies."
   ]
  },
  {
   "cell_type": "markdown",
   "id": "50a6b156",
   "metadata": {},
   "source": [
    "## Installing Dependencies\n",
    "\n",
    "First, we need to install (using pip) EdgeSimPy's binary. Next, we install the package that contains EdgeSimPy extensions that simulate edge maintenance and the source code of the compared strategies."
   ]
  },
  {
   "cell_type": "code",
   "execution_count": null,
   "id": "1cc61c15",
   "metadata": {},
   "outputs": [],
   "source": [
    "!pip install https://github.com/paulosevero/lamp_laxus/releases/download/0.1.0/edge_sim_py-0.1.0-py3-none-any.whl\n",
    "!pip install https://github.com/paulosevero/lamp_laxus/releases/download/0.1.0/simulator-0.1.0-py3-none-any.whl"
   ]
  },
  {
   "cell_type": "markdown",
   "id": "7c292845",
   "metadata": {},
   "source": [
    "## Importing Modules and Loading Maintenance Features\n",
    "\n",
    "After loading the dependencies (EdgeSimPy and its maintenance extensions), we need to import these modules so we can use them next."
   ]
  },
  {
   "cell_type": "code",
   "execution_count": null,
   "id": "77dd1646",
   "metadata": {},
   "outputs": [],
   "source": [
    "# EdgeSimPy components\n",
    "from edge_sim_py.simulator import Simulator\n",
    "from edge_sim_py.component_builders.edge_server_builder import EdgeServerBuilder\n",
    "\n",
    "# Maintenance-related components\n",
    "from simulator.simulator_extensions import load_maintenance_attributes\n",
    "from simulator.simulator_extensions import show_simulated_environment\n",
    "from simulator.simulator_extensions import update_state\n",
    "from simulator.simulator_extensions import run\n",
    "from simulator.simulator_extensions import store_original_state\n",
    "from simulator.simulator_extensions import restore_original_state\n",
    "from simulator.simulator_extensions import collect_metrics\n",
    "from simulator.simulator_extensions import show_results\n",
    "\n",
    "# Maintenance algorithms\n",
    "from simulator.algorithms.first_fit_like import first_fit_like\n",
    "from simulator.algorithms.best_fit_like import best_fit_like\n",
    "from simulator.algorithms.worst_fit_like import worst_fit_like\n",
    "from simulator.algorithms.greedy_least_batch import greedy_least_batch\n",
    "from simulator.algorithms.salus import salus\n",
    "from simulator.algorithms.laxus import laxus\n",
    "from simulator.algorithms.lamp import lamp\n",
    "\n",
    "# Python libraries\n",
    "import random\n",
    "import argparse"
   ]
  },
  {
   "cell_type": "markdown",
   "id": "437738fb",
   "metadata": {},
   "source": [
    "After loading the base simulation modules from EdgeSimPy, we define a seed that will allow us to get reproducible results. Also, we create an instance of the Simulator class that will be used to run our experiments and we load the dataset file (\"dataset1.json\")."
   ]
  },
  {
   "cell_type": "code",
   "execution_count": null,
   "id": "c1320c36",
   "metadata": {},
   "outputs": [],
   "source": [
    "# Defining a seed value to allow reproducibility\n",
    "random.seed(1)\n",
    "\n",
    "# Creating simulator object\n",
    "simulator = Simulator()\n",
    "\n",
    "# Loading the dataset\n",
    "dataset = f\"datasets/dataset1.json\"\n",
    "simulator.load_dataset(input_file=dataset)"
   ]
  },
  {
   "cell_type": "markdown",
   "id": "5a878fab",
   "metadata": {},
   "source": [
    "Next, we extend EdgeSimPy with specific edge maintenance functionality."
   ]
  },
  {
   "cell_type": "code",
   "execution_count": null,
   "id": "8be79c57",
   "metadata": {},
   "outputs": [],
   "source": [
    "# Adding/Overriding EdgeSimPy methods\n",
    "Simulator.load_maintenance_attributes = load_maintenance_attributes\n",
    "Simulator.update_state = update_state\n",
    "Simulator.run = run\n",
    "Simulator.store_original_state = store_original_state\n",
    "Simulator.restore_original_state = restore_original_state\n",
    "Simulator.collect_metrics = collect_metrics\n",
    "Simulator.show_results = show_results\n",
    "\n",
    "# Calling EdgeSimPy maintenance-related methods\n",
    "simulator.load_maintenance_attributes(input_file=dataset)"
   ]
  },
  {
   "cell_type": "markdown",
   "id": "1f04d499",
   "metadata": {},
   "source": [
    "## Running Experiments\n",
    "\n",
    "After having made all the necessary preparations, we just need to execute the maintenance strategies, setting parameters if necessary."
   ]
  },
  {
   "cell_type": "code",
   "execution_count": null,
   "id": "68ae4783",
   "metadata": {},
   "outputs": [],
   "source": [
    "# Running Greedy Least Batch (GLB)\n",
    "simulator.run(algorithm=globals()[\"greedy_least_batch\"], arguments={})\n",
    "\n",
    "# Running Salus\n",
    "simulator.run(algorithm=globals()[\"salus\"], arguments={})\n",
    "\n",
    "# Running Lamp\n",
    "simulator.run(algorithm=globals()[\"lamp\"], arguments={})\n",
    "\n",
    "# Running Laxus\n",
    "arguments = {\n",
    "    \"n_gen\": 800,\n",
    "    \"pop_size\": 120,\n",
    "    \"sampling\": \"int_random\",\n",
    "    \"cross\": \"int_ux\",\n",
    "    \"cross_prob\": 1,\n",
    "    \"mutation\": \"int_pm\",\n",
    "    \"weights\": 0,\n",
    "}\n",
    "simulator.run(algorithm=globals()[\"laxus\"], arguments=arguments)"
   ]
  },
  {
   "cell_type": "markdown",
   "id": "1b96d5d0",
   "metadata": {},
   "source": [
    "## Displaying Results\n",
    "\n",
    "After executing the maintenance strategies, we just need to call one method to get the simulation results."
   ]
  },
  {
   "cell_type": "code",
   "execution_count": null,
   "id": "f80dfac5",
   "metadata": {},
   "outputs": [],
   "source": [
    "simulator.show_results(verbosity=0)"
   ]
  }
 ],
 "metadata": {
  "kernelspec": {
   "display_name": "Python 3 (ipykernel)",
   "language": "python",
   "name": "python3"
  },
  "language_info": {
   "codemirror_mode": {
    "name": "ipython",
    "version": 3
   },
   "file_extension": ".py",
   "mimetype": "text/x-python",
   "name": "python",
   "nbconvert_exporter": "python",
   "pygments_lexer": "ipython3",
   "version": "3.8.10"
  }
 },
 "nbformat": 4,
 "nbformat_minor": 5
}
