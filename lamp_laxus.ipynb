{
 "cells": [
  {
   "cell_type": "markdown",
   "id": "c5286934",
   "metadata": {},
   "source": [
    "# Location-Aware Maintenance Strategies for Edge Infrastructures\n",
    "\n",
    "This notebook shows how we can simulate maintenance of edge infrastructures using EdgeSimPy, reproducing the results comparing Lamp and Laxus against existing maintenance strategies."
   ]
  },
  {
   "cell_type": "markdown",
   "id": "50a6b156",
   "metadata": {},
   "source": [
    "## Installing Dependencies\n",
    "\n",
    "First, we need to install (using pip) EdgeSimPy's binary. Next, we install the package that contains EdgeSimPy extensions that simulate edge maintenance and the source code of the compared strategies."
   ]
  },
  {
   "cell_type": "code",
   "execution_count": 1,
   "id": "1cc61c15",
   "metadata": {},
   "outputs": [
    {
     "name": "stdout",
     "output_type": "stream",
     "text": [
      "Defaulting to user installation because normal site-packages is not writeable\n",
      "Collecting edge-sim-py==0.1.0\n",
      "  Downloading https://github.com/paulosevero/lamp_laxus/releases/download/0.1.0/edge_sim_py-0.1.0-py3-none-any.whl (25 kB)\n",
      "Requirement already satisfied: ipykernel<7.0.0,>=6.0.3 in /home/oxfrd/.local/lib/python3.8/site-packages (from edge-sim-py==0.1.0) (6.0.3)\n",
      "Requirement already satisfied: networkx<3.0.0,>=2.6.1 in /home/oxfrd/.local/lib/python3.8/site-packages (from edge-sim-py==0.1.0) (2.6.3)\n",
      "Requirement already satisfied: jupyter<2.0.0,>=1.0.0 in /home/oxfrd/.local/lib/python3.8/site-packages (from edge-sim-py==0.1.0) (1.0.0)\n",
      "Requirement already satisfied: traitlets<6.0,>=4.1.0 in /home/oxfrd/.local/lib/python3.8/site-packages (from ipykernel<7.0.0,>=6.0.3->edge-sim-py==0.1.0) (5.0.5)\n",
      "Requirement already satisfied: matplotlib-inline<0.2.0,>=0.1.0 in /home/oxfrd/.local/lib/python3.8/site-packages (from ipykernel<7.0.0,>=6.0.3->edge-sim-py==0.1.0) (0.1.2)\n",
      "Requirement already satisfied: tornado<7.0,>=4.2 in /home/oxfrd/.local/lib/python3.8/site-packages (from ipykernel<7.0.0,>=6.0.3->edge-sim-py==0.1.0) (6.1)\n",
      "Requirement already satisfied: debugpy<2.0,>=1.0.0 in /home/oxfrd/.local/lib/python3.8/site-packages (from ipykernel<7.0.0,>=6.0.3->edge-sim-py==0.1.0) (1.4.1)\n",
      "Requirement already satisfied: ipython<8.0,>=7.23.1 in /home/oxfrd/.local/lib/python3.8/site-packages (from ipykernel<7.0.0,>=6.0.3->edge-sim-py==0.1.0) (7.26.0)\n",
      "Requirement already satisfied: jupyter-client<7.0 in /home/oxfrd/.local/lib/python3.8/site-packages (from ipykernel<7.0.0,>=6.0.3->edge-sim-py==0.1.0) (6.1.12)\n",
      "Requirement already satisfied: qtconsole in /home/oxfrd/.local/lib/python3.8/site-packages (from jupyter<2.0.0,>=1.0.0->edge-sim-py==0.1.0) (5.1.1)\n",
      "Requirement already satisfied: ipywidgets in /home/oxfrd/.local/lib/python3.8/site-packages (from jupyter<2.0.0,>=1.0.0->edge-sim-py==0.1.0) (7.6.3)\n",
      "Requirement already satisfied: nbconvert in /home/oxfrd/.local/lib/python3.8/site-packages (from jupyter<2.0.0,>=1.0.0->edge-sim-py==0.1.0) (6.1.0)\n",
      "Requirement already satisfied: notebook in /home/oxfrd/.local/lib/python3.8/site-packages (from jupyter<2.0.0,>=1.0.0->edge-sim-py==0.1.0) (6.4.2)\n",
      "Requirement already satisfied: jupyter-console in /home/oxfrd/.local/lib/python3.8/site-packages (from jupyter<2.0.0,>=1.0.0->edge-sim-py==0.1.0) (6.4.0)\n",
      "Requirement already satisfied: backcall in /home/oxfrd/.local/lib/python3.8/site-packages (from ipython<8.0,>=7.23.1->ipykernel<7.0.0,>=6.0.3->edge-sim-py==0.1.0) (0.2.0)\n",
      "Requirement already satisfied: pexpect>4.3 in /home/oxfrd/.local/lib/python3.8/site-packages (from ipython<8.0,>=7.23.1->ipykernel<7.0.0,>=6.0.3->edge-sim-py==0.1.0) (4.8.0)\n",
      "Requirement already satisfied: prompt-toolkit!=3.0.0,!=3.0.1,<3.1.0,>=2.0.0 in /home/oxfrd/.local/lib/python3.8/site-packages (from ipython<8.0,>=7.23.1->ipykernel<7.0.0,>=6.0.3->edge-sim-py==0.1.0) (3.0.19)\n",
      "Requirement already satisfied: pygments in /home/oxfrd/.local/lib/python3.8/site-packages (from ipython<8.0,>=7.23.1->ipykernel<7.0.0,>=6.0.3->edge-sim-py==0.1.0) (2.9.0)\n",
      "Requirement already satisfied: jedi>=0.16 in /home/oxfrd/.local/lib/python3.8/site-packages (from ipython<8.0,>=7.23.1->ipykernel<7.0.0,>=6.0.3->edge-sim-py==0.1.0) (0.18.0)\n",
      "Requirement already satisfied: decorator in /home/oxfrd/.local/lib/python3.8/site-packages (from ipython<8.0,>=7.23.1->ipykernel<7.0.0,>=6.0.3->edge-sim-py==0.1.0) (5.0.9)\n",
      "Requirement already satisfied: setuptools>=18.5 in /usr/lib/python3/dist-packages (from ipython<8.0,>=7.23.1->ipykernel<7.0.0,>=6.0.3->edge-sim-py==0.1.0) (45.2.0)\n",
      "Requirement already satisfied: pickleshare in /home/oxfrd/.local/lib/python3.8/site-packages (from ipython<8.0,>=7.23.1->ipykernel<7.0.0,>=6.0.3->edge-sim-py==0.1.0) (0.7.5)\n",
      "Requirement already satisfied: python-dateutil>=2.1 in /usr/lib/python3/dist-packages (from jupyter-client<7.0->ipykernel<7.0.0,>=6.0.3->edge-sim-py==0.1.0) (2.7.3)\n",
      "Requirement already satisfied: pyzmq>=13 in /home/oxfrd/.local/lib/python3.8/site-packages (from jupyter-client<7.0->ipykernel<7.0.0,>=6.0.3->edge-sim-py==0.1.0) (22.2.1)\n",
      "Requirement already satisfied: jupyter-core>=4.6.0 in /home/oxfrd/.local/lib/python3.8/site-packages (from jupyter-client<7.0->ipykernel<7.0.0,>=6.0.3->edge-sim-py==0.1.0) (4.7.1)\n",
      "Requirement already satisfied: ipython-genutils in /home/oxfrd/.local/lib/python3.8/site-packages (from traitlets<6.0,>=4.1.0->ipykernel<7.0.0,>=6.0.3->edge-sim-py==0.1.0) (0.2.0)\n",
      "Requirement already satisfied: widgetsnbextension~=3.5.0 in /home/oxfrd/.local/lib/python3.8/site-packages (from ipywidgets->jupyter<2.0.0,>=1.0.0->edge-sim-py==0.1.0) (3.5.1)\n",
      "Requirement already satisfied: nbformat>=4.2.0 in /home/oxfrd/.local/lib/python3.8/site-packages (from ipywidgets->jupyter<2.0.0,>=1.0.0->edge-sim-py==0.1.0) (5.1.3)\n",
      "Requirement already satisfied: jupyterlab-widgets>=1.0.0 in /home/oxfrd/.local/lib/python3.8/site-packages (from ipywidgets->jupyter<2.0.0,>=1.0.0->edge-sim-py==0.1.0) (1.0.0)\n",
      "Requirement already satisfied: jupyterlab-pygments in /home/oxfrd/.local/lib/python3.8/site-packages (from nbconvert->jupyter<2.0.0,>=1.0.0->edge-sim-py==0.1.0) (0.1.2)\n",
      "Requirement already satisfied: testpath in /home/oxfrd/.local/lib/python3.8/site-packages (from nbconvert->jupyter<2.0.0,>=1.0.0->edge-sim-py==0.1.0) (0.5.0)\n",
      "Requirement already satisfied: entrypoints>=0.2.2 in /usr/lib/python3/dist-packages (from nbconvert->jupyter<2.0.0,>=1.0.0->edge-sim-py==0.1.0) (0.3)\n",
      "Requirement already satisfied: jinja2>=2.4 in /home/oxfrd/.local/lib/python3.8/site-packages (from nbconvert->jupyter<2.0.0,>=1.0.0->edge-sim-py==0.1.0) (3.0.1)\n",
      "Requirement already satisfied: bleach in /home/oxfrd/.local/lib/python3.8/site-packages (from nbconvert->jupyter<2.0.0,>=1.0.0->edge-sim-py==0.1.0) (4.0.0)\n",
      "Requirement already satisfied: pandocfilters>=1.4.1 in /home/oxfrd/.local/lib/python3.8/site-packages (from nbconvert->jupyter<2.0.0,>=1.0.0->edge-sim-py==0.1.0) (1.4.3)\n",
      "Requirement already satisfied: nbclient<0.6.0,>=0.5.0 in /home/oxfrd/.local/lib/python3.8/site-packages (from nbconvert->jupyter<2.0.0,>=1.0.0->edge-sim-py==0.1.0) (0.5.3)\n",
      "Requirement already satisfied: defusedxml in /home/oxfrd/.local/lib/python3.8/site-packages (from nbconvert->jupyter<2.0.0,>=1.0.0->edge-sim-py==0.1.0) (0.7.1)\n",
      "Requirement already satisfied: mistune<2,>=0.8.1 in /home/oxfrd/.local/lib/python3.8/site-packages (from nbconvert->jupyter<2.0.0,>=1.0.0->edge-sim-py==0.1.0) (0.8.4)\n",
      "Requirement already satisfied: terminado>=0.8.3 in /home/oxfrd/.local/lib/python3.8/site-packages (from notebook->jupyter<2.0.0,>=1.0.0->edge-sim-py==0.1.0) (0.10.1)\n",
      "Requirement already satisfied: argon2-cffi in /home/oxfrd/.local/lib/python3.8/site-packages (from notebook->jupyter<2.0.0,>=1.0.0->edge-sim-py==0.1.0) (20.1.0)\n",
      "Requirement already satisfied: Send2Trash>=1.5.0 in /home/oxfrd/.local/lib/python3.8/site-packages (from notebook->jupyter<2.0.0,>=1.0.0->edge-sim-py==0.1.0) (1.7.1)\n",
      "Requirement already satisfied: prometheus-client in /home/oxfrd/.local/lib/python3.8/site-packages (from notebook->jupyter<2.0.0,>=1.0.0->edge-sim-py==0.1.0) (0.11.0)\n",
      "Requirement already satisfied: qtpy in /home/oxfrd/.local/lib/python3.8/site-packages (from qtconsole->jupyter<2.0.0,>=1.0.0->edge-sim-py==0.1.0) (1.9.0)\n",
      "Requirement already satisfied: parso<0.9.0,>=0.8.0 in /home/oxfrd/.local/lib/python3.8/site-packages (from jedi>=0.16->ipython<8.0,>=7.23.1->ipykernel<7.0.0,>=6.0.3->edge-sim-py==0.1.0) (0.8.2)\n",
      "Requirement already satisfied: MarkupSafe>=2.0 in /home/oxfrd/.local/lib/python3.8/site-packages (from jinja2>=2.4->nbconvert->jupyter<2.0.0,>=1.0.0->edge-sim-py==0.1.0) (2.0.1)\n",
      "Requirement already satisfied: nest-asyncio in /home/oxfrd/.local/lib/python3.8/site-packages (from nbclient<0.6.0,>=0.5.0->nbconvert->jupyter<2.0.0,>=1.0.0->edge-sim-py==0.1.0) (1.5.1)\n",
      "Requirement already satisfied: async-generator in /home/oxfrd/.local/lib/python3.8/site-packages (from nbclient<0.6.0,>=0.5.0->nbconvert->jupyter<2.0.0,>=1.0.0->edge-sim-py==0.1.0) (1.10)\n",
      "Requirement already satisfied: jsonschema!=2.5.0,>=2.4 in /home/oxfrd/.local/lib/python3.8/site-packages (from nbformat>=4.2.0->ipywidgets->jupyter<2.0.0,>=1.0.0->edge-sim-py==0.1.0) (3.2.0)\n",
      "Requirement already satisfied: ptyprocess>=0.5 in /home/oxfrd/.local/lib/python3.8/site-packages (from pexpect>4.3->ipython<8.0,>=7.23.1->ipykernel<7.0.0,>=6.0.3->edge-sim-py==0.1.0) (0.7.0)\n",
      "Requirement already satisfied: wcwidth in /home/oxfrd/.local/lib/python3.8/site-packages (from prompt-toolkit!=3.0.0,!=3.0.1,<3.1.0,>=2.0.0->ipython<8.0,>=7.23.1->ipykernel<7.0.0,>=6.0.3->edge-sim-py==0.1.0) (0.2.5)\n"
     ]
    },
    {
     "name": "stdout",
     "output_type": "stream",
     "text": [
      "Requirement already satisfied: cffi>=1.0.0 in /home/oxfrd/.local/lib/python3.8/site-packages (from argon2-cffi->notebook->jupyter<2.0.0,>=1.0.0->edge-sim-py==0.1.0) (1.14.6)\n",
      "Requirement already satisfied: six in /usr/lib/python3/dist-packages (from argon2-cffi->notebook->jupyter<2.0.0,>=1.0.0->edge-sim-py==0.1.0) (1.14.0)\n",
      "Requirement already satisfied: packaging in /home/oxfrd/.local/lib/python3.8/site-packages (from bleach->nbconvert->jupyter<2.0.0,>=1.0.0->edge-sim-py==0.1.0) (20.9)\n",
      "Requirement already satisfied: webencodings in /home/oxfrd/.local/lib/python3.8/site-packages (from bleach->nbconvert->jupyter<2.0.0,>=1.0.0->edge-sim-py==0.1.0) (0.5.1)\n",
      "Requirement already satisfied: pycparser in /home/oxfrd/.local/lib/python3.8/site-packages (from cffi>=1.0.0->argon2-cffi->notebook->jupyter<2.0.0,>=1.0.0->edge-sim-py==0.1.0) (2.20)\n",
      "Requirement already satisfied: pyrsistent>=0.14.0 in /home/oxfrd/.local/lib/python3.8/site-packages (from jsonschema!=2.5.0,>=2.4->nbformat>=4.2.0->ipywidgets->jupyter<2.0.0,>=1.0.0->edge-sim-py==0.1.0) (0.18.0)\n",
      "Requirement already satisfied: attrs>=17.4.0 in /home/oxfrd/.local/lib/python3.8/site-packages (from jsonschema!=2.5.0,>=2.4->nbformat>=4.2.0->ipywidgets->jupyter<2.0.0,>=1.0.0->edge-sim-py==0.1.0) (21.2.0)\n",
      "Requirement already satisfied: pyparsing>=2.0.2 in /home/oxfrd/.local/lib/python3.8/site-packages (from packaging->bleach->nbconvert->jupyter<2.0.0,>=1.0.0->edge-sim-py==0.1.0) (2.4.7)\n",
      "Defaulting to user installation because normal site-packages is not writeable\n",
      "Collecting simulator==0.1.0\n",
      "  Downloading https://github.com/paulosevero/lamp_laxus/releases/download/0.1.0/simulator-0.1.0-py3-none-any.whl (25 kB)\n",
      "Requirement already satisfied: pymoo<0.6.0,>=0.5.0 in /home/oxfrd/.local/lib/python3.8/site-packages (from simulator==0.1.0) (0.5.0)\n",
      "Requirement already satisfied: numpy>=1.15 in /usr/lib/python3/dist-packages (from pymoo<0.6.0,>=0.5.0->simulator==0.1.0) (1.17.4)\n",
      "Requirement already satisfied: autograd>=1.3 in /home/oxfrd/.local/lib/python3.8/site-packages (from pymoo<0.6.0,>=0.5.0->simulator==0.1.0) (1.3)\n",
      "Requirement already satisfied: scipy>=1.1 in /usr/lib/python3/dist-packages (from pymoo<0.6.0,>=0.5.0->simulator==0.1.0) (1.3.3)\n",
      "Requirement already satisfied: cma==2.7 in /home/oxfrd/.local/lib/python3.8/site-packages (from pymoo<0.6.0,>=0.5.0->simulator==0.1.0) (2.7.0)\n",
      "Requirement already satisfied: matplotlib>=3 in /home/oxfrd/.local/lib/python3.8/site-packages (from pymoo<0.6.0,>=0.5.0->simulator==0.1.0) (3.5.0)\n",
      "Requirement already satisfied: future>=0.15.2 in /home/oxfrd/.local/lib/python3.8/site-packages (from autograd>=1.3->pymoo<0.6.0,>=0.5.0->simulator==0.1.0) (0.18.2)\n",
      "Requirement already satisfied: python-dateutil>=2.7 in /usr/lib/python3/dist-packages (from matplotlib>=3->pymoo<0.6.0,>=0.5.0->simulator==0.1.0) (2.7.3)\n",
      "Requirement already satisfied: packaging>=20.0 in /home/oxfrd/.local/lib/python3.8/site-packages (from matplotlib>=3->pymoo<0.6.0,>=0.5.0->simulator==0.1.0) (20.9)\n",
      "Requirement already satisfied: setuptools-scm>=4 in /home/oxfrd/.local/lib/python3.8/site-packages (from matplotlib>=3->pymoo<0.6.0,>=0.5.0->simulator==0.1.0) (6.3.2)\n",
      "Requirement already satisfied: pillow>=6.2.0 in /usr/lib/python3/dist-packages (from matplotlib>=3->pymoo<0.6.0,>=0.5.0->simulator==0.1.0) (7.0.0)\n",
      "Requirement already satisfied: pyparsing>=2.2.1 in /home/oxfrd/.local/lib/python3.8/site-packages (from matplotlib>=3->pymoo<0.6.0,>=0.5.0->simulator==0.1.0) (2.4.7)\n",
      "Requirement already satisfied: cycler>=0.10 in /home/oxfrd/.local/lib/python3.8/site-packages (from matplotlib>=3->pymoo<0.6.0,>=0.5.0->simulator==0.1.0) (0.11.0)\n",
      "Requirement already satisfied: fonttools>=4.22.0 in /home/oxfrd/.local/lib/python3.8/site-packages (from matplotlib>=3->pymoo<0.6.0,>=0.5.0->simulator==0.1.0) (4.28.1)\n",
      "Requirement already satisfied: kiwisolver>=1.0.1 in /home/oxfrd/.local/lib/python3.8/site-packages (from matplotlib>=3->pymoo<0.6.0,>=0.5.0->simulator==0.1.0) (1.3.2)\n",
      "Requirement already satisfied: setuptools in /usr/lib/python3/dist-packages (from setuptools-scm>=4->matplotlib>=3->pymoo<0.6.0,>=0.5.0->simulator==0.1.0) (45.2.0)\n",
      "Requirement already satisfied: tomli>=1.0.0 in /home/oxfrd/.local/lib/python3.8/site-packages (from setuptools-scm>=4->matplotlib>=3->pymoo<0.6.0,>=0.5.0->simulator==0.1.0) (1.2.1)\n"
     ]
    }
   ],
   "source": [
    "!pip install https://github.com/paulosevero/lamp_laxus/releases/download/0.1.0/edge_sim_py-0.1.0-py3-none-any.whl\n",
    "!pip install https://github.com/paulosevero/lamp_laxus/releases/download/0.1.0/simulator-0.1.0-py3-none-any.whl"
   ]
  },
  {
   "cell_type": "markdown",
   "id": "7c292845",
   "metadata": {},
   "source": [
    "## Importing Modules and Loading Maintenance Features\n",
    "\n",
    "After loading the dependencies (EdgeSimPy and its maintenance extensions), we need to import these modules so we can use them next."
   ]
  },
  {
   "cell_type": "code",
   "execution_count": 2,
   "id": "77dd1646",
   "metadata": {},
   "outputs": [],
   "source": [
    "# EdgeSimPy components\n",
    "from edge_sim_py.simulator import Simulator\n",
    "from edge_sim_py.component_builders.edge_server_builder import EdgeServerBuilder\n",
    "\n",
    "# Maintenance-related components\n",
    "from simulator.simulator_extensions import load_maintenance_attributes\n",
    "from simulator.simulator_extensions import show_simulated_environment\n",
    "from simulator.simulator_extensions import update_state\n",
    "from simulator.simulator_extensions import run\n",
    "from simulator.simulator_extensions import store_original_state\n",
    "from simulator.simulator_extensions import restore_original_state\n",
    "from simulator.simulator_extensions import collect_metrics\n",
    "from simulator.simulator_extensions import show_results\n",
    "\n",
    "# Maintenance algorithms\n",
    "from simulator.algorithms.first_fit_like import first_fit_like\n",
    "from simulator.algorithms.best_fit_like import best_fit_like\n",
    "from simulator.algorithms.worst_fit_like import worst_fit_like\n",
    "from simulator.algorithms.greedy_least_batch import greedy_least_batch\n",
    "from simulator.algorithms.salus import salus\n",
    "from simulator.algorithms.laxus import laxus\n",
    "from simulator.algorithms.lamp import lamp\n",
    "\n",
    "# Python libraries\n",
    "import random\n",
    "import argparse"
   ]
  },
  {
   "cell_type": "markdown",
   "id": "437738fb",
   "metadata": {},
   "source": [
    "After loading the base simulation modules from EdgeSimPy, we define a seed that will allow us to get reproducible results. Also, we create an instance of the Simulator class that will be used to run our experiments and we load the dataset file (\"dataset1.json\")."
   ]
  },
  {
   "cell_type": "code",
   "execution_count": 3,
   "id": "c1320c36",
   "metadata": {},
   "outputs": [],
   "source": [
    "# Defining a seed value to allow reproducibility\n",
    "random.seed(1)\n",
    "\n",
    "# Creating simulator object\n",
    "simulator = Simulator()\n",
    "\n",
    "# Loading the dataset\n",
    "dataset = f\"datasets/dataset1.json\"\n",
    "simulator.load_dataset(input_file=dataset)"
   ]
  },
  {
   "cell_type": "markdown",
   "id": "5a878fab",
   "metadata": {},
   "source": [
    "Next, we extend EdgeSimPy with specific edge maintenance functionality."
   ]
  },
  {
   "cell_type": "code",
   "execution_count": 4,
   "id": "8be79c57",
   "metadata": {},
   "outputs": [],
   "source": [
    "# Adding/Overriding EdgeSimPy methods\n",
    "Simulator.load_maintenance_attributes = load_maintenance_attributes\n",
    "Simulator.update_state = update_state\n",
    "Simulator.run = run\n",
    "Simulator.store_original_state = store_original_state\n",
    "Simulator.restore_original_state = restore_original_state\n",
    "Simulator.collect_metrics = collect_metrics\n",
    "Simulator.show_results = show_results\n",
    "\n",
    "# Calling EdgeSimPy maintenance-related methods\n",
    "simulator.load_maintenance_attributes(input_file=dataset)"
   ]
  },
  {
   "cell_type": "markdown",
   "id": "1f04d499",
   "metadata": {},
   "source": [
    "## Running Experiments\n",
    "\n",
    "After having made all the necessary preparations, we just need to execute the maintenance strategies, setting parameters if necessary."
   ]
  },
  {
   "cell_type": "code",
   "execution_count": null,
   "id": "68ae4783",
   "metadata": {},
   "outputs": [],
   "source": [
    "# Running Greedy Least Batch (GLB)\n",
    "simulator.run(algorithm=globals()[\"greedy_least_batch\"], arguments={})\n",
    "\n",
    "# Running Salus\n",
    "simulator.run(algorithm=globals()[\"salus\"], arguments={})\n",
    "\n",
    "# Running Lamp\n",
    "simulator.run(algorithm=globals()[\"lamp\"], arguments={})\n",
    "\n",
    "# Running Laxus\n",
    "arguments = {\n",
    "    \"n_gen\": 800,\n",
    "    \"pop_size\": 120,\n",
    "    \"sampling\": \"int_random\",\n",
    "    \"cross\": \"int_ux\",\n",
    "    \"cross_prob\": 1,\n",
    "    \"mutation\": \"int_pm\",\n",
    "    \"weights\": 0,\n",
    "}\n",
    "simulator.run(algorithm=globals()[\"laxus\"], arguments=arguments)"
   ]
  },
  {
   "cell_type": "markdown",
   "id": "1b96d5d0",
   "metadata": {},
   "source": [
    "## Displaying Results\n",
    "\n",
    "After executing the maintenance strategies, we just need to call one method to get the simulation results."
   ]
  },
  {
   "cell_type": "code",
   "execution_count": null,
   "id": "f80dfac5",
   "metadata": {},
   "outputs": [],
   "source": [
    "simulator.show_results(verbosity=0)"
   ]
  }
 ],
 "metadata": {
  "kernelspec": {
   "display_name": "Python 3 (ipykernel)",
   "language": "python",
   "name": "python3"
  },
  "language_info": {
   "codemirror_mode": {
    "name": "ipython",
    "version": 3
   },
   "file_extension": ".py",
   "mimetype": "text/x-python",
   "name": "python",
   "nbconvert_exporter": "python",
   "pygments_lexer": "ipython3",
   "version": "3.8.10"
  }
 },
 "nbformat": 4,
 "nbformat_minor": 5
}
